{
  "nbformat": 4,
  "nbformat_minor": 0,
  "metadata": {
    "colab": {
      "name": "Dictionary and set using python.ipynb",
      "provenance": [],
      "collapsed_sections": [],
      "authorship_tag": "ABX9TyPRqgN8FHx6E30xss6IkpJw",
      "include_colab_link": true
    },
    "kernelspec": {
      "name": "python3",
      "display_name": "Python 3"
    },
    "language_info": {
      "name": "python"
    }
  },
  "cells": [
    {
      "cell_type": "markdown",
      "metadata": {
        "id": "view-in-github",
        "colab_type": "text"
      },
      "source": [
        "<a href=\"https://colab.research.google.com/github/SutapaNayak/Dictionary-and-set-using-python/blob/main/Dictionary_and_set_using_python.ipynb\" target=\"_parent\"><img src=\"https://colab.research.google.com/assets/colab-badge.svg\" alt=\"Open In Colab\"/></a>"
      ]
    },
    {
      "cell_type": "markdown",
      "metadata": {
        "id": "02IU7fYhSK8U"
      },
      "source": [
        "Q.1 Write a Python Program to sort (ascending and descending) a dictionary by value\n"
      ]
    },
    {
      "cell_type": "code",
      "metadata": {
        "colab": {
          "base_uri": "https://localhost:8080/"
        },
        "id": "IuDB5u5ISRD1",
        "outputId": "14aa3fb8-b279-4d9e-b082-c42ccff1fa02"
      },
      "source": [
        "import operator\n",
        "d = {1: 2, 3: 4, 4: 3, 2: 1, 0: 0}\n",
        "print('Original dictionary : ',d)\n",
        "assending_d = dict(sorted(d.items(), key=operator.itemgetter(1)))\n",
        "print('Dictionary in ascending order by value : ',assending_d)\n",
        "descending_d =dict(sorted(d.items(), key=operator.itemgetter(1),reverse=True)) ## dict is using to convert into dictionary\n",
        "print('Dictionary in descending order by value : ',descending_d)"
      ],
      "execution_count": null,
      "outputs": [
        {
          "output_type": "stream",
          "text": [
            "Original dictionary :  {1: 2, 3: 4, 4: 3, 2: 1, 0: 0}\n",
            "Dictionary in ascending order by value :  {0: 0, 2: 1, 1: 2, 4: 3, 3: 4}\n",
            "Dictionary in descending order by value :  {3: 4, 4: 3, 1: 2, 2: 1, 0: 0}\n"
          ],
          "name": "stdout"
        }
      ]
    },
    {
      "cell_type": "markdown",
      "metadata": {
        "id": "dlZZ8IZGTiKW"
      },
      "source": [
        "Q.2 Write a Python Program to add a key to a dictionary. \n",
        "\n",
        "Sample Dictionary : {0: 10, 1: 20}\n",
        "\n",
        "Expected Result : {0: 10, 1: 20, 2: 30}"
      ]
    },
    {
      "cell_type": "code",
      "metadata": {
        "colab": {
          "base_uri": "https://localhost:8080/"
        },
        "id": "2k34FQ2OTpLj",
        "outputId": "e66a2fe1-5b1f-4652-b0f1-d77856121107"
      },
      "source": [
        "p={0: 10, 1: 20}\n",
        "q={2: 30}\n",
        "p.update(q)\n",
        "print(p)\n"
      ],
      "execution_count": null,
      "outputs": [
        {
          "output_type": "stream",
          "text": [
            "{0: 10, 1: 20, 2: 30}\n"
          ],
          "name": "stdout"
        }
      ]
    },
    {
      "cell_type": "markdown",
      "metadata": {
        "id": "kFy2-ZoDUKiE"
      },
      "source": [
        "Q.3 Write a  program asks for City name and Temperature and builds a dictionary using that Later on you can input City name and it will tell you the Temperature of that City."
      ]
    },
    {
      "cell_type": "code",
      "metadata": {
        "colab": {
          "base_uri": "https://localhost:8080/"
        },
        "id": "ncQpqNGgUOXM",
        "outputId": "13bb4d45-2249-4d04-d6b7-50b2db01b164"
      },
      "source": [
        "a={\"kolkata\" : 30,\n",
        "   \"Delhi\" :  40,\n",
        "   \"Chennai\" : 50,\n",
        "   \"Sikkim\" : 25}\n",
        "b=input(\"Enter name of the city :\")\n",
        "print(\" the temperature of entered city :\" , a[b])"
      ],
      "execution_count": null,
      "outputs": [
        {
          "output_type": "stream",
          "text": [
            "Enter name of the city :kolkata\n",
            " the temperature of entered city : 30\n"
          ],
          "name": "stdout"
        }
      ]
    },
    {
      "cell_type": "markdown",
      "metadata": {
        "id": "2PLIJx9HVraD"
      },
      "source": [
        "Q. 4 Write a Python program to convert list to list of dictionaries.\n",
        "\n",
        "Sample lists: [\"Black\", \"Red\", \"Maroon\", \"Yellow\"], [\"#000000\", \"#FF0000\", \"#800000\", \"#FFFF00\"]\n",
        "\n",
        "Expected Output: [{'color_name': 'Black', 'color_code': '#000000'}, {'color_name': 'Red', 'color_code': '#FF0000'}, {'color_name': 'Maroon', 'color_code': '#800000'}, {'color_name': 'Yellow', 'color_code': '#FFFF00'}]"
      ]
    },
    {
      "cell_type": "code",
      "metadata": {
        "colab": {
          "base_uri": "https://localhost:8080/"
        },
        "id": "84_Ge_wGXECj",
        "outputId": "fcb21231-db16-4348-e47b-16c82d854548"
      },
      "source": [
        "color_name = [\"Black\", \"Red\", \"Maroon\", \"Yellow\"]\n",
        "color_code = [\"#000000\", \"#FF0000\", \"#800000\", \"#FFFF00\"]\n",
        "print([{'color_name': f, 'color_code': c} for f, c in zip(color_name, color_code)])"
      ],
      "execution_count": null,
      "outputs": [
        {
          "output_type": "stream",
          "text": [
            "[{'color_name': 'Black', 'color_code': '#000000'}, {'color_name': 'Red', 'color_code': '#FF0000'}, {'color_name': 'Maroon', 'color_code': '#800000'}, {'color_name': 'Yellow', 'color_code': '#FFFF00'}]\n"
          ],
          "name": "stdout"
        }
      ]
    },
    {
      "cell_type": "markdown",
      "metadata": {
        "id": "EN262zsy2-N3"
      },
      "source": [
        " Q. 5 We have following information on Employees and their Salary (Salary is in lakhs),\n",
        "\n",
        "Employee\tSalary\n",
        "\n",
        "John\t14\n",
        "\n",
        "Smith\t13\n",
        "\n",
        "Alice\t32\n",
        "\n",
        "Daneil\t21\n",
        "\n",
        "1.Using above create a dictionary of Employees and their Salary"
      ]
    },
    {
      "cell_type": "code",
      "metadata": {
        "colab": {
          "base_uri": "https://localhost:8080/"
        },
        "id": "SjKlgKoM3EIL",
        "outputId": "16b0eb90-bf0f-40c1-fa70-ab2f268f4fa8"
      },
      "source": [
        "emp_sal={'John':14,'Smith':13,'Alice':32,'Daneil':21}\n",
        "print(emp_sal)"
      ],
      "execution_count": 12,
      "outputs": [
        {
          "output_type": "stream",
          "text": [
            "{'John': 14, 'Smith': 13, 'Alice': 32, 'Daneil': 21}\n"
          ],
          "name": "stdout"
        }
      ]
    },
    {
      "cell_type": "markdown",
      "metadata": {
        "id": "fMZIhqdCKGpq"
      },
      "source": [
        "2.Write a program that asks user for three type of inputs,\n",
        "a.print: if user enter print then it should print all Employees with their Salary in this format,\n",
        "\n",
        "John ==>14\n",
        "\n",
        "Smith ==>13\n",
        "\n",
        "Alice ==>32\n",
        "\n",
        "Daneil ==>21\n",
        "\n",
        "b.add: if user input adds then it should further ask for an Employee name to add. If Employee already exists in our dataset then it should print that it exists and do nothing. If it doesn't then it asks for Salary and add that new Employee/Salary in our dictionary and print it\n",
        "\n",
        "c.remove: when user inputs remove it should ask for an Employee to remove. If an Employee exists in our dictionary then remove it and print a new dictionary using format shown above in (a). Else print that Employee doesn't exist!\n",
        "\n",
        "d.query: on this again ask the user for which Employee he or she wants to query. When a user inputs that Employee it will print the Salary of that Employee"
      ]
    },
    {
      "cell_type": "code",
      "metadata": {
        "colab": {
          "base_uri": "https://localhost:8080/"
        },
        "id": "LAFB1tBnKfiD",
        "outputId": "b514e225-70fd-4c7f-e06d-78502a02d10a"
      },
      "source": [
        "user_input= input(\"Enter your choice :print/add/remove/query:\")\n",
        "if user_input=='print':  \n",
        " print('John==>14')  \n",
        " print('Smith==>13')  \n",
        " print('Alice==>32')  \n",
        " print('Daneil==>21')\n",
        "elif user_input=='add':  \n",
        " emp= input(\"Enter the name of the Employee to be added :\") \n",
        " if emp in emp_sal.keys():    \n",
        "   print(\"Employee name already exists\") \n",
        " else:    \n",
        "   sal=input(f\"Enter the salary of {emp}\")   \n",
        "   emp_sal.update({emp:sal})    \n",
        "   print(emp_sal)\n",
        "elif user_input=='remove':  \n",
        "  name= input(\"Enter the name to be removed: \") \n",
        "  if name in emp_sal:  \n",
        "   emp_sal.pop(name)   \n",
        "   print(emp_sal)  \n",
        "  else:   \n",
        "   print(\"Employee doesn't exist\")\n",
        "elif user_input=='query':  \n",
        " employee= input(\"Enter the name of the employee you want to query\")  \n",
        " if employee in emp_sal.keys():   \n",
        "   print(f\"The salary is ->{emp_sal[employee]}\") \n",
        " else:    \n",
        "   print(\"The employee does not exist\")\n"
      ],
      "execution_count": 13,
      "outputs": [
        {
          "output_type": "stream",
          "text": [
            "Enter your choice :print/add/remove/query:add\n",
            "Enter the name of the Employee to be added :sam\n",
            "Enter the salary of sam20\n",
            "{'John': 14, 'Smith': 13, 'Alice': 32, 'Daneil': 21, 'sam': '20'}\n"
          ],
          "name": "stdout"
        }
      ]
    },
    {
      "cell_type": "markdown",
      "metadata": {
        "id": "FSdc5uK_MwGy"
      },
      "source": [
        "## Set theory"
      ]
    },
    {
      "cell_type": "markdown",
      "metadata": {
        "id": "WyPTe077Mn3C"
      },
      "source": [
        " Q.1 What is the difference between a set and a frozenset? Create any set and try to use frozenset(setname"
      ]
    },
    {
      "cell_type": "markdown",
      "metadata": {
        "id": "ShJSiFR_M4hM"
      },
      "source": [
        "Ans.Frozen set is just an immutable version of a Python set object. While elements of a set can be modied at any time, elements of the frozen set remain the same after creation. Due to this, frozen sets can be used as keys in Dictionary or as elements of another set."
      ]
    },
    {
      "cell_type": "code",
      "metadata": {
        "colab": {
          "base_uri": "https://localhost:8080/"
        },
        "id": "r40k_UVAM0TJ",
        "outputId": "74adad23-4fee-4086-ab66-14fd383dec8b"
      },
      "source": [
        "x = set(\"sutapa\") \n",
        "print(x)\n",
        "print(type(x))"
      ],
      "execution_count": 16,
      "outputs": [
        {
          "output_type": "stream",
          "text": [
            "{'p', 'u', 't', 's', 'a'}\n",
            "<class 'set'>\n"
          ],
          "name": "stdout"
        }
      ]
    },
    {
      "cell_type": "code",
      "metadata": {
        "colab": {
          "base_uri": "https://localhost:8080/"
        },
        "id": "7fuBzTbCNPn5",
        "outputId": "1adf6f2f-66b4-4b2f-e73d-8580ea34d00d"
      },
      "source": [
        "fs = frozenset(x)\n",
        "print('The frozen set is:',fs)"
      ],
      "execution_count": 17,
      "outputs": [
        {
          "output_type": "stream",
          "text": [
            "The frozen set is: frozenset({'p', 'u', 't', 's', 'a'})\n"
          ],
          "name": "stdout"
        }
      ]
    },
    {
      "cell_type": "markdown",
      "metadata": {
        "id": "14ht7bbINaZK"
      },
      "source": [
        "Q.2 Find the elements in a given set that are not in another set\n",
        "\n",
        "    set1 = {10,20,30,40,50}\n",
        "\n",
        "    set2 = {40,50,60,70,80}\n",
        "\n",
        " Difference between set1 and set2 is {10,20,30}"
      ]
    },
    {
      "cell_type": "code",
      "metadata": {
        "colab": {
          "base_uri": "https://localhost:8080/"
        },
        "id": "11-jkwWUNgoD",
        "outputId": "c4f3ac2c-cf29-4eb3-bf8d-a0d954d6ea09"
      },
      "source": [
        "set1 = {10,20,30,40,50}\n",
        "set2 = {40,50,60,70,80}\n",
        "print(\" Difference between set1 and set2 is :\" )\n",
        "print(set1.difference(set2))"
      ],
      "execution_count": 18,
      "outputs": [
        {
          "output_type": "stream",
          "text": [
            " Difference between set1 and set2 is :\n",
            "{10, 20, 30}\n"
          ],
          "name": "stdout"
        }
      ]
    }
  ]
}